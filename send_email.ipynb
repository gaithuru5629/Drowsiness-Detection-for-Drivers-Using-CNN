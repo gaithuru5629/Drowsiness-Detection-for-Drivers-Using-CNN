{
 "cells": [
  {
   "cell_type": "markdown",
   "id": "97ca8cc6-0bdd-4250-9d9c-c5f6a4e7f28e",
   "metadata": {},
   "source": [
    "## Send Email Notification Using MailSlurp\n",
    "\n",
    "Email url: https://app.mailslurp.com/emails/"
   ]
  },
  {
   "cell_type": "code",
   "execution_count": 37,
   "id": "751dceea-6ccf-4f26-8d66-da74a4e2723d",
   "metadata": {
    "tags": []
   },
   "outputs": [],
   "source": [
    "import mailslurp_client\n",
    "from datetime import datetime\n",
    "\n",
    "configuration = mailslurp_client.Configuration()\n",
    "configuration.api_key['x-api-key'] = \"661708563b3ab91753b7acd88365489c08db6f1d30e9f2275e55094b3dbe44d4\""
   ]
  },
  {
   "cell_type": "code",
   "execution_count": 38,
   "id": "7a3b8484-bc8f-445e-bb1a-8c85fff87bf8",
   "metadata": {},
   "outputs": [],
   "source": [
    "#send email function\n",
    "\n",
    "def send_email_notification():\n",
    "    with mailslurp_client.ApiClient(configuration) as api_client:\n",
    "        # first create an inbox\n",
    "        api_instance = mailslurp_client.InboxControllerApi(api_client)\n",
    "        inbox = api_instance.create_inbox()\n",
    "        print(\"inbox:\", inbox)\n",
    "\n",
    "        # send email from the inbox\n",
    "        send_email_options = mailslurp_client.SendEmailOptions()\n",
    "        send_email_options.to = [inbox.email_address]\n",
    "        send_email_options.subject = \"Alert\"\n",
    "        \n",
    "        # datetime object containing current date and time\n",
    "        now = datetime.now()\n",
    "        #print(\"now =\", now)\n",
    "        date_time = now.strftime(\"%m/%d/%Y, %H:%M:%S\")\n",
    "        #print(\"date and time:\",date_time)\n",
    "\n",
    "        send_email_options.body = \"Driver A fell asleep on the wheel on \" + date_time\n",
    "        send_email_options.is_html = True\n",
    "        api_instance.send_email(inbox.id, send_email_options=send_email_options)"
   ]
  },
  {
   "cell_type": "code",
   "execution_count": 36,
   "id": "65f9bcca-39f6-48f9-a5a3-6bf64b911b3e",
   "metadata": {},
   "outputs": [
    {
     "name": "stdout",
     "output_type": "stream",
     "text": [
      "inbox: {'created_at': datetime.datetime(2022, 12, 3, 21, 1, 3, 251000, tzinfo=tzutc()),\n",
      " 'description': None,\n",
      " 'domain_id': None,\n",
      " 'email_address': 'c3a6c2d9-4988-469b-877e-61f3d87ab1ae@mailslurp.com',\n",
      " 'expires_at': '2022-12-05T09:01:03.248623018Z',\n",
      " 'favourite': False,\n",
      " 'id': 'c3a6c2d9-4988-469b-877e-61f3d87ab1ae',\n",
      " 'inbox_type': 'HTTP_INBOX',\n",
      " 'name': None,\n",
      " 'read_only': False,\n",
      " 'tags': None,\n",
      " 'user_id': 'da3789fc-bd77-48bf-b336-9df2e2c87955',\n",
      " 'virtual_inbox': False}\n"
     ]
    }
   ],
   "source": [
    "#send_email_notification()"
   ]
  }
 ],
 "metadata": {
  "kernelspec": {
   "display_name": "Python 3 (ipykernel)",
   "language": "python",
   "name": "python3"
  },
  "language_info": {
   "codemirror_mode": {
    "name": "ipython",
    "version": 3
   },
   "file_extension": ".py",
   "mimetype": "text/x-python",
   "name": "python",
   "nbconvert_exporter": "python",
   "pygments_lexer": "ipython3",
   "version": "3.9.13"
  }
 },
 "nbformat": 4,
 "nbformat_minor": 5
}
