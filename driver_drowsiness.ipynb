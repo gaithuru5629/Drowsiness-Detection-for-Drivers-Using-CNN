{
 "cells": [
  {
   "cell_type": "markdown",
   "id": "8f96587a-ee13-400b-a30e-9a949c3a6f5e",
   "metadata": {},
   "source": [
    "# Detection of Drowsiness for Drivers, using CNN.\n",
    "\n",
    "* In this project we use OpenCV and TensorFlow\n",
    "\n",
    "We develop a deep learning model to detect and determine whether a driver's eyes are open or closed classiying it into one of the two categories, using the **yawn-eye** dataset which consists of 617 images, split into training and test datasets. The dataset consists of subfolders of labelled data; closed, open, yawn , no_yawn.\n",
    "We then train and test the developed deep learning model. \n",
    "To test the accuracy of predictions for this model in real time, we take images from \n",
    "a computer webcam using OpenCV and then fed to a deep learning model which then classifies the person's eyes as either open or closed, displaying a text on the screen and issuing a sound alert.\n",
    "\n",
    "The steps followed in this project are:\n",
    "1. Take image inputs from the dataset.\n",
    "2. Determine a Region of Interest(ROI), for the detected face and eyes.\n",
    "3. Feed this to a classifier(model), which classifies the eyes as either open or closed.\n",
    "4. Keep track of how much time has elapsed with the person'e eyes open or closed, thus classifying the person as either drowsy or not."
   ]
  },
  {
   "cell_type": "markdown",
   "id": "bc099770-2b64-4a45-8213-da30b0a75e59",
   "metadata": {},
   "source": [
    "## 1. Creating a model to identify whether the driver's eyes are open or closed."
   ]
  },
  {
   "cell_type": "markdown",
   "id": "08c02b56-1520-4efb-810b-6c3d41c9f6f4",
   "metadata": {},
   "source": [
    "### Loading the dataset\n",
    "\n",
    "* The dataset contains four subfolders inside train and test folders. We will access the data and use it to train the model.    \n",
    "* We will pre-process the images and then use them for model training.  \n",
    "* Once the model is trained, we store the weights and model architecture in the file \"result_model\".\n"
   ]
  },
  {
   "cell_type": "markdown",
   "id": "7332df87-9ed4-49be-b086-2a7dc7de3f0a",
   "metadata": {},
   "source": [
    "**Model architecture**\n",
    "\n",
    "We use keras to build the model with the use of Convolutional Neural Networks(CNN).   \n",
    "CNN is a deep neural network which is ideal for image classification.    \n",
    "It consists of an input layer, output layer and hidden layers. The operation is performed using a filter that performs 2-dimension matrix multiplication on the layers.   \n",
    "\n",
    "**The architecture we use in this project is:**\n",
    "    \n",
    "A CNN model made up of the following layers:\n",
    "\n",
    "* Convolutional layer; 64 nodes, kernel size 3  \n",
    "* Convolutional layer; 64 nodes, kernel size 3  \n",
    "* Convolutional layer; 64 nodes, kernel size 3  \n",
    "* Fully connected layer; 128 nodes   \n",
    "\n",
    "The output layer is a fully connected 2-node layer. \n",
    "We use relu as the activation function for all layers except the output layer. where we use the Softmax activation function."
   ]
  },
  {
   "cell_type": "code",
   "execution_count": 1,
   "id": "4b1dbabf-825b-4484-bf7d-575abfa535f7",
   "metadata": {},
   "outputs": [],
   "source": [
    "#!pip install pygame"
   ]
  },
  {
   "cell_type": "code",
   "execution_count": 2,
   "id": "e07e17e2-3b91-42c2-98a0-d4ecedfd2d05",
   "metadata": {},
   "outputs": [],
   "source": [
    "#importing libraries\n",
    "import cv2\n",
    "import os\n",
    "import random\n",
    "from keras.models import load_model\n",
    "import numpy as np\n",
    "import matplotlib.pyplot as plt\n",
    "%matplotlib inline\n",
    "\n",
    "#CNN model\n",
    "from keras.models import Sequential\n",
    "from keras.layers import Conv2D , MaxPooling2D , Flatten , Dense\n",
    "\n",
    "#Saving the trained model\n",
    "import pickle  #saving model to a pickle file\n",
    "\n",
    "#Disable warnings\n",
    "import warnings\n",
    "warnings.filterwarnings('ignore')"
   ]
  },
  {
   "cell_type": "code",
   "execution_count": 3,
   "id": "0c18e631-6c58-4d92-a1bf-1ea4929550a9",
   "metadata": {},
   "outputs": [],
   "source": [
    "#loading the training dataset\n",
    "\n",
    "#path to dataset\n",
    "path = r'eye_dataset/train'\n",
    "# categories of interest\n",
    "GROUPS = ['Closed' , 'Open']"
   ]
  },
  {
   "cell_type": "code",
   "execution_count": 4,
   "id": "8a64dbf9-8895-48e2-90bd-ea459115ed36",
   "metadata": {},
   "outputs": [],
   "source": [
    "#Specifying image size\n",
    "image_size = 24\n",
    "data = []\n",
    "\n",
    "#iterating through each image and expressing the image as an array\n",
    "for group in GROUPS:\n",
    "    folder = os.path.join(path,group)\n",
    "    label = GROUPS.index(group)\n",
    "    for img in os.listdir(folder):\n",
    "        img_path = os.path.join(folder, img)\n",
    "        img_arr = cv2.imread(img_path)\n",
    "        img_arr = cv2.cvtColor(img_arr, cv2.COLOR_BGR2GRAY)\n",
    "        img_arr = cv2.resize(img_arr,(image_size, image_size),1)\n",
    "        data.append([img_arr , label])"
   ]
  },
  {
   "cell_type": "code",
   "execution_count": 5,
   "id": "cde8d74a-86f8-4c40-8823-d5157a48c285",
   "metadata": {
    "tags": []
   },
   "outputs": [
    {
     "data": {
      "text/plain": [
       "1234"
      ]
     },
     "execution_count": 5,
     "metadata": {},
     "output_type": "execute_result"
    }
   ],
   "source": [
    "#checking the length of the data\n",
    "len(data)"
   ]
  },
  {
   "cell_type": "code",
   "execution_count": 6,
   "id": "ba5c2d35-4e04-4525-a293-ff6156a49504",
   "metadata": {},
   "outputs": [],
   "source": [
    "#randomly shuffling the data\n",
    "random.shuffle(data)"
   ]
  },
  {
   "cell_type": "code",
   "execution_count": 7,
   "id": "82d8780c-0c62-423f-87b3-7e84805e89dc",
   "metadata": {},
   "outputs": [],
   "source": [
    "#splitting the data into attributes and labels\n",
    "X = []\n",
    "Y = []\n",
    "\n",
    "for attributes,labels in data:\n",
    "    X.append(attributes)     #features\n",
    "    Y.append(labels)     "
   ]
  },
  {
   "cell_type": "code",
   "execution_count": 8,
   "id": "d1da08c8-fe11-4ba9-86ab-54582dbf66d4",
   "metadata": {},
   "outputs": [],
   "source": [
    "#coverting X and Y into an arrays\n",
    "X = np.array(X)\n",
    "Y = np.array(Y)"
   ]
  },
  {
   "cell_type": "markdown",
   "id": "85c36ca8-4db4-483a-a303-ea9ba6221af8",
   "metadata": {},
   "source": [
    "## Saving the trained model in a Pickle file for future use.\n",
    "\n",
    "* Machine learning models take a long time to train on large datasets.   \n",
    "* Pickle is a Python tool that is useful for saving machine learning models so as to avoid having to retrain your model in order to re-use it.    \n",
    "* This makes it reusable since the trained model can easily be re-loaded.   \n",
    "* Pickle save and Pickle load functionality allow for saving and re-run of the saved pre-trained model.    "
   ]
  },
  {
   "cell_type": "code",
   "execution_count": 9,
   "id": "51ea0529-d4cb-402e-a25b-15315f50b96c",
   "metadata": {},
   "outputs": [],
   "source": [
    "# save the data\n",
    "pickle.dump(X , open('X.pkl' , 'wb'))\n",
    "pickle.dump(Y , open('Y.pkl' , 'wb'))"
   ]
  },
  {
   "cell_type": "code",
   "execution_count": 10,
   "id": "d100bb98-f966-4624-b52e-8dc2d76d0b1d",
   "metadata": {},
   "outputs": [
    {
     "data": {
      "text/plain": [
       "array([[[0.45882353, 0.47058824, 0.45098039, ..., 0.70980392,\n",
       "         0.75294118, 0.79215686],\n",
       "        [0.4627451 , 0.47058824, 0.46666667, ..., 0.76078431,\n",
       "         0.78823529, 0.84313725],\n",
       "        [0.49411765, 0.51372549, 0.48627451, ..., 0.74509804,\n",
       "         0.78823529, 0.85882353],\n",
       "        ...,\n",
       "        [0.59215686, 0.58431373, 0.57254902, ..., 0.64313725,\n",
       "         0.6745098 , 0.69803922],\n",
       "        [0.6       , 0.6       , 0.59215686, ..., 0.67843137,\n",
       "         0.69803922, 0.71764706],\n",
       "        [0.62745098, 0.61176471, 0.61960784, ..., 0.67843137,\n",
       "         0.70196078, 0.72941176]],\n",
       "\n",
       "       [[0.81568627, 0.81176471, 0.80784314, ..., 0.69019608,\n",
       "         0.68235294, 0.65882353],\n",
       "        [0.80784314, 0.81568627, 0.82352941, ..., 0.5254902 ,\n",
       "         0.65882353, 0.63529412],\n",
       "        [0.80392157, 0.8       , 0.81960784, ..., 0.6745098 ,\n",
       "         0.61568627, 0.64705882],\n",
       "        ...,\n",
       "        [0.79607843, 0.76078431, 0.72941176, ..., 0.76862745,\n",
       "         0.75294118, 0.7372549 ],\n",
       "        [0.81568627, 0.83137255, 0.8       , ..., 0.77647059,\n",
       "         0.75294118, 0.73333333],\n",
       "        [0.81568627, 0.82745098, 0.82352941, ..., 0.77647059,\n",
       "         0.76470588, 0.72941176]],\n",
       "\n",
       "       [[0.56470588, 0.57647059, 0.57647059, ..., 0.24313725,\n",
       "         0.22352941, 0.1372549 ],\n",
       "        [0.56862745, 0.57254902, 0.57647059, ..., 0.2627451 ,\n",
       "         0.23137255, 0.17647059],\n",
       "        [0.60784314, 0.59215686, 0.59607843, ..., 0.27058824,\n",
       "         0.23921569, 0.21960784],\n",
       "        ...,\n",
       "        [0.30196078, 0.30588235, 0.31372549, ..., 0.37647059,\n",
       "         0.37254902, 0.37647059],\n",
       "        [0.35294118, 0.3372549 , 0.34509804, ..., 0.38431373,\n",
       "         0.38823529, 0.38039216],\n",
       "        [0.40392157, 0.37254902, 0.37647059, ..., 0.40392157,\n",
       "         0.40784314, 0.40392157]],\n",
       "\n",
       "       ...,\n",
       "\n",
       "       [[0.02352941, 0.04705882, 0.0745098 , ..., 0.42745098,\n",
       "         0.43529412, 0.44313725],\n",
       "        [0.02352941, 0.05098039, 0.07058824, ..., 0.44313725,\n",
       "         0.43921569, 0.4745098 ],\n",
       "        [0.03921569, 0.07058824, 0.0745098 , ..., 0.41568627,\n",
       "         0.43921569, 0.45490196],\n",
       "        ...,\n",
       "        [0.13333333, 0.1372549 , 0.14901961, ..., 0.1372549 ,\n",
       "         0.14509804, 0.1254902 ],\n",
       "        [0.15686275, 0.14509804, 0.14509804, ..., 0.16078431,\n",
       "         0.15294118, 0.15294118],\n",
       "        [0.14117647, 0.15294118, 0.16862745, ..., 0.16078431,\n",
       "         0.15294118, 0.16862745]],\n",
       "\n",
       "       [[0.23921569, 0.24705882, 0.24705882, ..., 0.28627451,\n",
       "         0.29803922, 0.34901961],\n",
       "        [0.25098039, 0.25098039, 0.23529412, ..., 0.28235294,\n",
       "         0.30588235, 0.34117647],\n",
       "        [0.22352941, 0.24705882, 0.21568627, ..., 0.30588235,\n",
       "         0.30588235, 0.34117647],\n",
       "        ...,\n",
       "        [0.17254902, 0.16470588, 0.1254902 , ..., 0.20392157,\n",
       "         0.21176471, 0.22352941],\n",
       "        [0.19607843, 0.20784314, 0.19607843, ..., 0.20784314,\n",
       "         0.19215686, 0.22352941],\n",
       "        [0.19607843, 0.17647059, 0.2       , ..., 0.2       ,\n",
       "         0.21176471, 0.21960784]],\n",
       "\n",
       "       [[0.79607843, 0.45098039, 0.39215686, ..., 0.50980392,\n",
       "         0.51764706, 0.58823529],\n",
       "        [0.49019608, 0.31764706, 0.39607843, ..., 0.58823529,\n",
       "         0.61568627, 0.61176471],\n",
       "        [0.50588235, 0.28627451, 0.29411765, ..., 0.6627451 ,\n",
       "         0.67843137, 0.67843137],\n",
       "        ...,\n",
       "        [0.97647059, 0.90980392, 0.85490196, ..., 0.57254902,\n",
       "         0.61960784, 0.65098039],\n",
       "        [0.98431373, 0.90196078, 0.84705882, ..., 0.64705882,\n",
       "         0.68235294, 0.70980392],\n",
       "        [0.98431373, 0.90980392, 0.84705882, ..., 0.66666667,\n",
       "         0.69411765, 0.7254902 ]]])"
      ]
     },
     "execution_count": 10,
     "metadata": {},
     "output_type": "execute_result"
    }
   ],
   "source": [
    "#Normalizing the input image array - so that values lie between 0 and 1\n",
    "X = X/255\n",
    "X"
   ]
  },
  {
   "cell_type": "code",
   "execution_count": 11,
   "id": "3cab72b7-1779-42c2-859a-393ab82e19f7",
   "metadata": {},
   "outputs": [
    {
     "data": {
      "text/plain": [
       "(1234, 24, 24, 1)"
      ]
     },
     "execution_count": 11,
     "metadata": {},
     "output_type": "execute_result"
    }
   ],
   "source": [
    "# reshaping the X array to (24,24,1)\n",
    "image_rows,image_cols = 24,24\n",
    "X = X.reshape(X.shape[0],image_rows,image_cols,1)\n",
    "X.shape"
   ]
  },
  {
   "cell_type": "markdown",
   "id": "9c2342a8-d51c-4844-beff-db8ff0abb240",
   "metadata": {},
   "source": [
    "## Exploring the data and visualizing a few images:"
   ]
  },
  {
   "cell_type": "code",
   "execution_count": 12,
   "id": "1974dae2-6f98-4aa2-a2ee-32d44f555051",
   "metadata": {},
   "outputs": [
    {
     "data": {
      "text/plain": [
       "(<AxesSubplot:>, <matplotlib.image.AxesImage at 0x1ea419237c0>)"
      ]
     },
     "execution_count": 12,
     "metadata": {},
     "output_type": "execute_result"
    },
    {
     "data": {
      "image/png": "[encoded data removed]",
      "text/plain": [
       "<Figure size 700x700 with 4 Axes>"
      ]
     },
     "metadata": {},
     "output_type": "display_data"
    }
   ],
   "source": [
    "# visualizing images\n",
    "i = 0\n",
    "plt.figure(figsize=(7,7))\n",
    "plt.subplot(221), plt.imshow(X[i], cmap='gray')\n",
    "plt.subplot(222), plt.imshow(X[i+25], cmap='gray')\n",
    "plt.subplot(223), plt.imshow(X[i+50], cmap='gray')\n",
    "plt.subplot(224), plt.imshow(X[i+75], cmap='gray')"
   ]
  },
  {
   "cell_type": "markdown",
   "id": "7229848d-4135-4bd5-a9c4-56fa78864ef3",
   "metadata": {},
   "source": [
    "## Creating the Model - Using Keras"
   ]
  },
  {
   "cell_type": "code",
   "execution_count": 13,
   "id": "9bb4399c-2562-4e4b-aade-e9eaf9db6310",
   "metadata": {},
   "outputs": [],
   "source": [
    "# creating the model\n",
    "model = Sequential()\n",
    "\n",
    "model.add(Conv2D(64 , (3,3) , activation = 'relu' , input_shape= X.shape[1:]))\n",
    "model.add(MaxPooling2D((1,1)))\n",
    "\n",
    "model.add(Conv2D(64 , (3,3) , activation = 'relu'))\n",
    "model.add(MaxPooling2D((1,1)))\n",
    "\n",
    "model.add(Conv2D(64 , (3,3) , activation = 'relu'))\n",
    "model.add(MaxPooling2D((1,1)))\n",
    "\n",
    "model.add(Flatten())\n",
    "\n",
    "model.add(Dense(128, activation = 'relu'))\n",
    "\n",
    "model.add(Dense(2, activation = 'softmax'))"
   ]
  },
  {
   "cell_type": "code",
   "execution_count": 14,
   "id": "fe12844a-d2b8-42f4-9bbc-3a3679b400d3",
   "metadata": {},
   "outputs": [],
   "source": [
    "#Training (compiling) the created model\n",
    "model.compile(optimizer = 'adam' , loss = 'sparse_categorical_crossentropy' , metrics = ['accuracy'])"
   ]
  },
  {
   "cell_type": "code",
   "execution_count": 15,
   "id": "7694b6ea-4562-4143-b8df-c40f8ea9b036",
   "metadata": {},
   "outputs": [
    {
     "name": "stdout",
     "output_type": "stream",
     "text": [
      "Epoch 1/5\n",
      "35/35 [==============================] - 6s 138ms/step - loss: 0.4402 - accuracy: 0.8144 - val_loss: 0.3035 - val_accuracy: 0.8790\n",
      "Epoch 2/5\n",
      "35/35 [==============================] - 4s 126ms/step - loss: 0.2003 - accuracy: 0.9324 - val_loss: 0.1323 - val_accuracy: 0.9435\n",
      "Epoch 3/5\n",
      "35/35 [==============================] - 4s 126ms/step - loss: 0.1314 - accuracy: 0.9559 - val_loss: 0.1131 - val_accuracy: 0.9435\n",
      "Epoch 4/5\n",
      "35/35 [==============================] - 4s 124ms/step - loss: 0.0997 - accuracy: 0.9640 - val_loss: 0.0973 - val_accuracy: 0.9677\n",
      "Epoch 5/5\n",
      "35/35 [==============================] - 4s 129ms/step - loss: 0.1166 - accuracy: 0.9586 - val_loss: 0.0784 - val_accuracy: 0.9758\n"
     ]
    },
    {
     "data": {
      "text/plain": [
       "<keras.callbacks.History at 0x1ea42803940>"
      ]
     },
     "execution_count": 15,
     "metadata": {},
     "output_type": "execute_result"
    }
   ],
   "source": [
    "# fitting X , Y to the trained model\n",
    "model.fit(X, Y, epochs = 5 , validation_split = 0.1 , batch_size = 32)"
   ]
  },
  {
   "cell_type": "code",
   "execution_count": 16,
   "id": "7c16cee0-0ec3-4124-863f-d0022085b974",
   "metadata": {
    "tags": []
   },
   "outputs": [],
   "source": [
    "## saving the model to a pickle file\n",
    "#model.save(\"result_model.h5\")\n",
    "\n",
    "## saving the model to a pickle file\n",
    "#filename = 'result_model.h5'\n",
    "# save data to a file\n",
    "#with open(filename,'wb') as fout:\n",
    "#    pickle.dump(model,fout)"
   ]
  },
  {
   "cell_type": "code",
   "execution_count": 17,
   "id": "81e63fc9-0444-4fa2-bbf0-edb15ec0a066",
   "metadata": {},
   "outputs": [
    {
     "name": "stderr",
     "output_type": "stream",
     "text": [
      "WARNING:absl:Found untraced functions such as _jit_compiled_convolution_op, _jit_compiled_convolution_op, _jit_compiled_convolution_op while saving (showing 3 of 3). These functions will not be directly callable after loading.\n"
     ]
    },
    {
     "name": "stdout",
     "output_type": "stream",
     "text": [
      "INFO:tensorflow:Assets written to: result_model\\assets\n"
     ]
    },
    {
     "name": "stderr",
     "output_type": "stream",
     "text": [
      "INFO:tensorflow:Assets written to: result_model\\assets\n"
     ]
    }
   ],
   "source": [
    "# saving the model to a pickle file\n",
    "model.save(\"result_model\")\n"
   ]
  },
  {
   "cell_type": "code",
   "execution_count": 18,
   "id": "099be2ec-b843-49c7-b828-3f7c35b6e7eb",
   "metadata": {
    "tags": []
   },
   "outputs": [],
   "source": [
    "## load the model we created\n",
    "#model = load_model(\"result_model.h5\")"
   ]
  },
  {
   "cell_type": "code",
   "execution_count": null,
   "id": "89394947-262a-436f-bf20-c35b99a6bb54",
   "metadata": {},
   "outputs": [],
   "source": []
  },
  {
   "cell_type": "markdown",
   "id": "28fcbedd-0e64-4173-9a8c-c61f2864736f",
   "metadata": {},
   "source": [
    "## Running the Model once again, recording the history, validation loss and accuracy amd measuring accuracy of chosen model"
   ]
  },
  {
   "cell_type": "code",
   "execution_count": 19,
   "id": "9304a891-91ef-43c8-92d4-5ff017266953",
   "metadata": {},
   "outputs": [
    {
     "name": "stdout",
     "output_type": "stream",
     "text": [
      "Epoch 1/20\n",
      "35/35 [==============================] - ETA: 0s - loss: 0.0707 - accuracy: 0.9721"
     ]
    },
    {
     "name": "stderr",
     "output_type": "stream",
     "text": [
      "WARNING:absl:Found untraced functions such as _jit_compiled_convolution_op, _jit_compiled_convolution_op, _jit_compiled_convolution_op while saving (showing 3 of 3). These functions will not be directly callable after loading.\n"
     ]
    },
    {
     "name": "stdout",
     "output_type": "stream",
     "text": [
      "INFO:tensorflow:Assets written to: model-001.model\\assets\n"
     ]
    },
    {
     "name": "stderr",
     "output_type": "stream",
     "text": [
      "INFO:tensorflow:Assets written to: model-001.model\\assets\n"
     ]
    },
    {
     "name": "stdout",
     "output_type": "stream",
     "text": [
      "35/35 [==============================] - 8s 229ms/step - loss: 0.0707 - accuracy: 0.9721 - val_loss: 0.0582 - val_accuracy: 0.9597\n",
      "Epoch 2/20\n",
      "35/35 [==============================] - 5s 143ms/step - loss: 0.0612 - accuracy: 0.9748 - val_loss: 0.0789 - val_accuracy: 0.9677\n",
      "Epoch 3/20\n",
      "35/35 [==============================] - 4s 125ms/step - loss: 0.0395 - accuracy: 0.9811 - val_loss: 0.0630 - val_accuracy: 0.9677\n",
      "Epoch 4/20\n",
      "35/35 [==============================] - ETA: 0s - loss: 0.0298 - accuracy: 0.9883"
     ]
    },
    {
     "name": "stderr",
     "output_type": "stream",
     "text": [
      "WARNING:absl:Found untraced functions such as _jit_compiled_convolution_op, _jit_compiled_convolution_op, _jit_compiled_convolution_op while saving (showing 3 of 3). These functions will not be directly callable after loading.\n"
     ]
    },
    {
     "name": "stdout",
     "output_type": "stream",
     "text": [
      "INFO:tensorflow:Assets written to: model-004.model\\assets\n"
     ]
    },
    {
     "name": "stderr",
     "output_type": "stream",
     "text": [
      "INFO:tensorflow:Assets written to: model-004.model\\assets\n"
     ]
    },
    {
     "name": "stdout",
     "output_type": "stream",
     "text": [
      "35/35 [==============================] - 7s 201ms/step - loss: 0.0298 - accuracy: 0.9883 - val_loss: 0.0447 - val_accuracy: 0.9758\n",
      "Epoch 5/20\n",
      "35/35 [==============================] - 5s 130ms/step - loss: 0.0402 - accuracy: 0.9883 - val_loss: 0.0906 - val_accuracy: 0.9758\n",
      "Epoch 6/20\n",
      "35/35 [==============================] - 4s 124ms/step - loss: 0.0547 - accuracy: 0.9757 - val_loss: 0.0478 - val_accuracy: 0.9839\n",
      "Epoch 7/20\n",
      "35/35 [==============================] - 5s 129ms/step - loss: 0.0286 - accuracy: 0.9883 - val_loss: 0.0646 - val_accuracy: 0.9758\n",
      "Epoch 8/20\n",
      "35/35 [==============================] - 4s 124ms/step - loss: 0.0151 - accuracy: 0.9946 - val_loss: 0.0721 - val_accuracy: 0.9839\n",
      "Epoch 9/20\n",
      "35/35 [==============================] - 4s 127ms/step - loss: 0.0120 - accuracy: 0.9964 - val_loss: 0.0582 - val_accuracy: 0.9839\n",
      "Epoch 10/20\n",
      "35/35 [==============================] - 5s 131ms/step - loss: 0.0202 - accuracy: 0.9928 - val_loss: 0.0580 - val_accuracy: 0.9919\n",
      "Epoch 11/20\n",
      "35/35 [==============================] - 4s 127ms/step - loss: 0.0220 - accuracy: 0.9928 - val_loss: 0.0524 - val_accuracy: 0.9839\n",
      "Epoch 12/20\n",
      "35/35 [==============================] - ETA: 0s - loss: 0.0111 - accuracy: 0.9955"
     ]
    },
    {
     "name": "stderr",
     "output_type": "stream",
     "text": [
      "WARNING:absl:Found untraced functions such as _jit_compiled_convolution_op, _jit_compiled_convolution_op, _jit_compiled_convolution_op while saving (showing 3 of 3). These functions will not be directly callable after loading.\n"
     ]
    },
    {
     "name": "stdout",
     "output_type": "stream",
     "text": [
      "INFO:tensorflow:Assets written to: model-012.model\\assets\n"
     ]
    },
    {
     "name": "stderr",
     "output_type": "stream",
     "text": [
      "INFO:tensorflow:Assets written to: model-012.model\\assets\n"
     ]
    },
    {
     "name": "stdout",
     "output_type": "stream",
     "text": [
      "35/35 [==============================] - 8s 217ms/step - loss: 0.0111 - accuracy: 0.9955 - val_loss: 0.0392 - val_accuracy: 0.9919\n",
      "Epoch 13/20\n",
      "35/35 [==============================] - 5s 134ms/step - loss: 0.0038 - accuracy: 0.9991 - val_loss: 0.0416 - val_accuracy: 0.9839\n",
      "Epoch 14/20\n",
      "35/35 [==============================] - 4s 122ms/step - loss: 0.0018 - accuracy: 1.0000 - val_loss: 0.0797 - val_accuracy: 0.9839\n",
      "Epoch 15/20\n",
      "35/35 [==============================] - 5s 135ms/step - loss: 0.0025 - accuracy: 0.9991 - val_loss: 0.0497 - val_accuracy: 0.9839\n",
      "Epoch 16/20\n",
      "35/35 [==============================] - 4s 124ms/step - loss: 8.2994e-04 - accuracy: 1.0000 - val_loss: 0.0538 - val_accuracy: 0.9758\n",
      "Epoch 17/20\n",
      "35/35 [==============================] - 5s 150ms/step - loss: 5.0062e-04 - accuracy: 1.0000 - val_loss: 0.0496 - val_accuracy: 0.9839\n",
      "Epoch 18/20\n",
      "35/35 [==============================] - 5s 139ms/step - loss: 2.8315e-04 - accuracy: 1.0000 - val_loss: 0.0579 - val_accuracy: 0.9758\n",
      "Epoch 19/20\n",
      "35/35 [==============================] - 4s 125ms/step - loss: 1.4951e-04 - accuracy: 1.0000 - val_loss: 0.0591 - val_accuracy: 0.9758\n",
      "Epoch 20/20\n",
      "35/35 [==============================] - 4s 126ms/step - loss: 1.1476e-04 - accuracy: 1.0000 - val_loss: 0.0603 - val_accuracy: 0.9758\n"
     ]
    }
   ],
   "source": [
    "from keras.callbacks import ModelCheckpoint\n",
    "\n",
    "#Training and saving model with the best validation accuracy\n",
    "checkpoint = ModelCheckpoint('model-{epoch:03d}.model',monitor='val_loss',verbose=0,save_best_only=True,mode='auto')\n",
    "\n",
    "# fitting X , Y to the trained model\n",
    "#model.fit(X, Y, epochs = 5 , validation_split = 0.1 , batch_size = 32)\n",
    "history = model.fit(X, Y,epochs=20, callbacks=[checkpoint], validation_split=0.1, batch_size = 32)"
   ]
  },
  {
   "cell_type": "code",
   "execution_count": 20,
   "id": "2cbc2b3b-2d7a-462f-ac6a-91d901b963fe",
   "metadata": {},
   "outputs": [
    {
     "data": {
      "image/png": "[encoded data removed]",
      "text/plain": [
       "<Figure size 640x480 with 1 Axes>"
      ]
     },
     "metadata": {},
     "output_type": "display_data"
    }
   ],
   "source": [
    "# Plotting train and validation loss per epoch\n",
    "\n",
    "from matplotlib import pyplot as plt\n",
    "\n",
    "plt.plot(history.history['loss'],'r',label='training loss')\n",
    "plt.plot(history.history['val_loss'],label='validation loss')\n",
    "plt.xlabel('# epochs')\n",
    "plt.ylabel('loss')\n",
    "plt.legend()\n",
    "plt.show()"
   ]
  },
  {
   "cell_type": "code",
   "execution_count": 21,
   "id": "1960ee6e-3054-47ba-ba2c-799ce9303c64",
   "metadata": {},
   "outputs": [
    {
     "data": {
      "image/png": "[encoded data removed]",
      "text/plain": [
       "<Figure size 640x480 with 1 Axes>"
      ]
     },
     "metadata": {},
     "output_type": "display_data"
    }
   ],
   "source": [
    "# Plotting train and validation accuracy per epoch\n",
    "\n",
    "plt.plot(history.history['accuracy'],'r',label='training accuracy')\n",
    "plt.plot(history.history['val_accuracy'],label='validation accuracy')\n",
    "plt.xlabel('# epochs')\n",
    "plt.ylabel('accuracy')\n",
    "plt.legend()\n",
    "plt.show()"
   ]
  },
  {
   "cell_type": "code",
   "execution_count": 22,
   "id": "c90e0eae-6b54-4b12-b459-5071a6949d3c",
   "metadata": {},
   "outputs": [
    {
     "name": "stdout",
     "output_type": "stream",
     "text": [
      "39/39 [==============================] - 1s 28ms/step - loss: 0.0061 - accuracy: 0.9976\n",
      "[0.006147994659841061, 0.9975689053535461]\n"
     ]
    }
   ],
   "source": [
    "#print(model.evaluate(test_data,test_target))\n",
    "print(model.evaluate(X,Y))\n",
    "# Model loss and accuracy"
   ]
  },
  {
   "cell_type": "code",
   "execution_count": null,
   "id": "ae6ae21b-88e0-4075-9da3-8a476972bf9e",
   "metadata": {},
   "outputs": [],
   "source": []
  },
  {
   "cell_type": "markdown",
   "id": "1d5d1c5d-2db2-424c-8a56-0d49ae545a32",
   "metadata": {},
   "source": [
    "\n",
    "Dataset: https://www.kaggle.com/datasets/serenaraju/yawn-eye-dataset-new\n",
    "Pickle: https://practicaldatascience.co.uk/machine-learning/how-to-save-and-load-machine-learning-models-using-pickle\n",
    "https://docs.python.org/3/library/pickle.html"
   ]
  }
 ],
 "metadata": {
  "kernelspec": {
   "display_name": "Python 3 (ipykernel)",
   "language": "python",
   "name": "python3"
  },
  "language_info": {
   "codemirror_mode": {
    "name": "ipython",
    "version": 3
   },
   "file_extension": ".py",
   "mimetype": "text/x-python",
   "name": "python",
   "nbconvert_exporter": "python",
   "pygments_lexer": "ipython3",
   "version": "3.9.13"
  }
 },
 "nbformat": 4,
 "nbformat_minor": 5
}
